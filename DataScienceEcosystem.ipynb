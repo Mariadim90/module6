{
 "cells": [
  {
   "cell_type": "markdown",
   "id": "e32c3460-b2d2-4337-99e1-990541c00185",
   "metadata": {},
   "source": [
    "# Data Science Tools and Ecosystem"
   ]
  },
  {
   "cell_type": "markdown",
   "id": "f6714ec1-4e32-407e-bd4f-6acf3cd21705",
   "metadata": {},
   "source": [
    "In this notebook, Data Science Tools and Ecosystem are summarized."
   ]
  },
  {
   "cell_type": "markdown",
   "id": "c13e9800-40f9-4222-a91c-e7778ef0656d",
   "metadata": {},
   "source": [
    "Objectives:\n",
    "- List popular languages that Data Scientists use\n",
    "- List commonly used libraries used by Data Scientists\n",
    "- List three commonly used Open Source tools"
   ]
  },
  {
   "cell_type": "markdown",
   "id": "ed343360-4777-4cca-97be-c9b9b7221cad",
   "metadata": {},
   "source": [
    "Some of the popular languages that Data Scientists use are:"
   ]
  },
  {
   "cell_type": "markdown",
   "id": "c1ea97fb-cbf3-49ba-ad6f-d960b140c939",
   "metadata": {},
   "source": [
    "1. Python\n",
    "2. SQL\n",
    "3. R\n",
    "4. Scala"
   ]
  },
  {
   "cell_type": "markdown",
   "id": "0da684bf-e10c-4dd8-b5f8-087059e25763",
   "metadata": {},
   "source": [
    "Some of the commonly used libraries used by Data Scientists include:"
   ]
  },
  {
   "cell_type": "markdown",
   "id": "93b40c36-0e81-4ef8-b842-7c731058c293",
   "metadata": {},
   "source": [
    "1. Pandas\n",
    "2. NumPy\n",
    "3. Matplotlib\n",
    "4. SciPy"
   ]
  },
  {
   "cell_type": "markdown",
   "id": "05fc6965-c14d-43b6-a82f-7f7308aa28d8",
   "metadata": {},
   "source": [
    "|Data Science Tools|\n",
    "|------------------|\n",
    "|Jupyter Notebook|\n",
    "|RStudio|\n",
    "|VS Code|"
   ]
  },
  {
   "cell_type": "markdown",
   "id": "78b4ddf9-00be-4629-9d00-527285701ba3",
   "metadata": {},
   "source": [
    "### Below are a few examples of evaluating arithmetic expressions in Python"
   ]
  },
  {
   "cell_type": "code",
   "execution_count": 2,
   "id": "4afb693b-f3a4-4e28-8cbd-f8ce80d9727d",
   "metadata": {},
   "outputs": [
    {
     "data": {
      "text/plain": [
       "17"
      ]
     },
     "execution_count": 2,
     "metadata": {},
     "output_type": "execute_result"
    }
   ],
   "source": [
    "#This a simple arithmetic expression to mutiply then add integers\n",
    "(3*4)+5"
   ]
  },
  {
   "cell_type": "code",
   "execution_count": 3,
   "id": "a09e09a3-f2b2-4ad4-98d6-2cf430765aa1",
   "metadata": {},
   "outputs": [
    {
     "data": {
      "text/plain": [
       "3.3333333333333335"
      ]
     },
     "execution_count": 3,
     "metadata": {},
     "output_type": "execute_result"
    }
   ],
   "source": [
    "#This will convert 200 minutes to hours by diving by 60\n",
    "200/60"
   ]
  },
  {
   "cell_type": "markdown",
   "id": "7b065272-e098-49ec-bc68-c6821c8ae280",
   "metadata": {},
   "source": [
    "## Author\n",
    "Maria"
   ]
  },
  {
   "cell_type": "code",
   "execution_count": null,
   "id": "d536739a-2f3b-46d7-aa4d-342dfc3a138f",
   "metadata": {},
   "outputs": [],
   "source": []
  }
 ],
 "metadata": {
  "kernelspec": {
   "display_name": "Python 3 (ipykernel)",
   "language": "python",
   "name": "python3"
  },
  "language_info": {
   "codemirror_mode": {
    "name": "ipython",
    "version": 3
   },
   "file_extension": ".py",
   "mimetype": "text/x-python",
   "name": "python",
   "nbconvert_exporter": "python",
   "pygments_lexer": "ipython3",
   "version": "3.12.8"
  }
 },
 "nbformat": 4,
 "nbformat_minor": 5
}
